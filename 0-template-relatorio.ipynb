{
 "cells": [
  {
   "cell_type": "markdown",
   "id": "dcbd90cf",
   "metadata": {},
   "source": [
    "# Relátorio de Projeto Final \n",
    "\n",
    "**EPET060: Engenharia de Reservatórios - Prof. Jonathan da C. Teixeira - Semestre 2024/02**\n",
    "\n",
    "\n",
    "**Acadêmicos(as):** \n",
    "\n",
    "- Alan Mathison Turing, `alanm.turing@math.edu`, mat. 12345678\n",
    "- John Nash, `john.nash@mgame.edu`, mat. 24356\n",
    "- Friedrich Hayek, `fried.hayek@lib.edu`, mat. 5218334\n",
    "- John Locke, `john.lock@free.dom.uk`, mat. 1365479"
   ]
  },
  {
   "cell_type": "markdown",
   "id": "9a82467a-2cd3-4b34-a979-4d61996af0d5",
   "metadata": {},
   "source": [
    "## Descrição do problema"
   ]
  },
  {
   "cell_type": "markdown",
   "id": "17aca56c-85fa-4c7e-99e1-087e2b97b7ef",
   "metadata": {},
   "source": [
    "\n",
    "Descreva aqui o problema a ser tratado. (O quê?)\n",
    "\n",
    "Leia os problemas com cuidado e completamente todas as perguntas... Se preciso for rê-leia!!\n",
    "\n",
    "Pense em um problema antes de começar. Alguns problemas podem ser muito mais fáceis do que você pensava."
   ]
  },
  {
   "cell_type": "markdown",
   "id": "13aeb66a-541e-4a29-b09a-204dd2c7ca80",
   "metadata": {},
   "source": [
    "## Metodologia de solução"
   ]
  },
  {
   "cell_type": "markdown",
   "id": "f2ec6507-6929-4ef8-861e-49a3e9d81a64",
   "metadata": {},
   "source": [
    "Descreva a metodologia utilizada para resolver o problema proposto. Descrição dos algoritmos, se necessário. (Como consegui resolver o problema?)\n",
    "\n",
    "Para problemas teóricos, seja o mais **conciso possível**; dê detalhes suficientes para justificar seu processo.\n",
    "\n",
    "Quando lhe pedem para provar algo, você não pode simplesmente fornecer alguns exemplos. Você precisa provar para casos gerais.\n",
    "\n",
    "Quando lhe pedem para calcular algo, você é solicitado a simular as operações em um computador. Você precisa seguir as etapas do algoritmo, mesmo que consiga obter os resultados facilmente usando outras abordagens. O verdadeiro propósito para tais problemas é entender os métodos numéricos em vez das respostas corretas.\n",
    "\n"
   ]
  },
  {
   "cell_type": "markdown",
   "id": "5de094cb-e85c-4072-be55-82ff0155f754",
   "metadata": {},
   "source": [
    "## Resultados, análise e discussão\n",
    "\n",
    "Adicione gráficos, figuras, tabelas e informações necessárias (E aí?)\n",
    "\n",
    "Escrever um código de computador e fazê-lo \"rodar\" simplesmente não é suficiente. Você também precisa apresentar e validar seus resultados claramente. Abaixo está um formato sugerido para você usar:\n",
    "\n",
    "1. Descrição dos algoritmos, se necessário.\n",
    "1. Resultados selecionados, gráficos, tabelas (não entregue apenas todas as saídas). Use subplot ou outras ferramentas para colocar várias figuras juntas ou na mesma saida. Você também deve rotular (título, xlabel, ylabel, legenda etc.) todos os seus gráficos. Dê legendas a todas as tabelas e figuras.\n",
    "1. Análise dos seus resultados, se necessário"
   ]
  },
  {
   "cell_type": "markdown",
   "id": "2fc9db8d-f5d8-4b02-84ae-8cc60bf5a833",
   "metadata": {},
   "source": [
    "## Referências bibliográficas\n",
    "\n",
    "Registre **TODA E QUALQUER** bibliografia utilizada para resolver o problema.\n",
    "\n",
    "- Livro\n",
    "- Site\n",
    "- Link\n",
    "- Post\n",
    "- etc.\n",
    "\n",
    "---"
   ]
  },
  {
   "cell_type": "markdown",
   "id": "71570da8-f40d-4f04-a3ab-d637f1046826",
   "metadata": {},
   "source": [
    "### Ajuda (esta seção não deve ser incluída no relatório!)"
   ]
  },
  {
   "cell_type": "markdown",
   "id": "fb37b4af-271c-43ea-9d97-881da26a118d",
   "metadata": {},
   "source": [
    "Links, materiais e recursos para aprender como escrever o relatório. Caso queira fazer algo e não saiba, pergunte-me (ao professor). Se eu souber, orientarei como fazer. Porém, quase todas as dúvidas poderão ser sanadas por intermédio de um destes links a seguir:\n",
    "\n",
    "- O que é Markdown?: [link](https://pt.wikipedia.org/wiki/Markdown)\n",
    "\n",
    "- Dicas rápidas de Markdown: [link](https://www.markdownguide.org/cheat-sheet/)\n",
    "\n",
    "- Editor online para aprender Markdown: [link](https://stackedit.io/app#)\n",
    "\n",
    "- Como inserir texto, imagens e tabelas em notebooks: [link](https://www.earthdatascience.org/courses/intro-to-earth-data-science/file-formats/use-text-files/format-text-with-markdown-jupyter-notebook/)"
   ]
  }
 ],
 "metadata": {
  "kernelspec": {
   "display_name": "Python 3",
   "language": "python",
   "name": "python3"
  },
  "language_info": {
   "codemirror_mode": {
    "name": "ipython",
    "version": 3
   },
   "file_extension": ".py",
   "mimetype": "text/x-python",
   "name": "python",
   "nbconvert_exporter": "python",
   "pygments_lexer": "ipython3",
   "version": "3.8.2"
  }
 },
 "nbformat": 4,
 "nbformat_minor": 5
}
